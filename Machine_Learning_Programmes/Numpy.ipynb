{
 "cells": [
  {
   "cell_type": "markdown",
   "id": "56bbe6ff-8f22-46ef-a470-c59d895e4d7f",
   "metadata": {},
   "source": [
    "**importing library**"
   ]
  },
  {
   "cell_type": "code",
   "execution_count": 1,
   "id": "63972c58-6e84-41d4-b17e-4dc879a2a86c",
   "metadata": {},
   "outputs": [],
   "source": [
    "import numpy as np"
   ]
  },
  {
   "cell_type": "code",
   "execution_count": 2,
   "id": "d9e6eedb-719f-403d-b33e-3b607f54732f",
   "metadata": {},
   "outputs": [
    {
     "ename": "TypeError",
     "evalue": "array() takes from 1 to 2 positional arguments but 5 were given",
     "output_type": "error",
     "traceback": [
      "\u001b[1;31m---------------------------------------------------------------------------\u001b[0m",
      "\u001b[1;31mTypeError\u001b[0m                                 Traceback (most recent call last)",
      "Cell \u001b[1;32mIn[2], line 1\u001b[0m\n\u001b[1;32m----> 1\u001b[0m np\u001b[38;5;241m.\u001b[39marray(\u001b[38;5;241m2\u001b[39m,\u001b[38;5;241m4\u001b[39m,\u001b[38;5;241m244\u001b[39m,\u001b[38;5;241m5\u001b[39m,\u001b[38;5;241m6\u001b[39m)\n",
      "\u001b[1;31mTypeError\u001b[0m: array() takes from 1 to 2 positional arguments but 5 were given"
     ]
    }
   ],
   "source": [
    " np.array(2,4,244,5,6)        #np.array(2, 4, 244, 5, 6) tries to pass five separate arguments, but np.array() only accepts:\n",
    "                              #1st argument: the actual data (as an iterable),\n",
    "                              #Optional 2nd argument: dtype, for specifying data type"
   ]
  },
  {
   "cell_type": "code",
   "execution_count": 3,
   "id": "c640dde6-5eee-4924-92f4-c70551a961d1",
   "metadata": {},
   "outputs": [
    {
     "data": {
      "text/plain": [
       "array([  2,   4, 245,   4,   6])"
      ]
     },
     "execution_count": 3,
     "metadata": {},
     "output_type": "execute_result"
    }
   ],
   "source": [
    "np.array([2,4,245,4,6])"
   ]
  },
  {
   "cell_type": "code",
   "execution_count": 4,
   "id": "ee8184a4-b7d8-46fe-83cb-8ee88186b74f",
   "metadata": {},
   "outputs": [],
   "source": [
    "x=np.array([2,246,2,5,6])"
   ]
  },
  {
   "cell_type": "code",
   "execution_count": 5,
   "id": "3c67f978-ea8d-49f6-82fb-df347c07981d",
   "metadata": {},
   "outputs": [
    {
     "data": {
      "text/plain": [
       "array([  2, 246,   2,   5,   6])"
      ]
     },
     "execution_count": 5,
     "metadata": {},
     "output_type": "execute_result"
    }
   ],
   "source": [
    "x"
   ]
  },
  {
   "cell_type": "code",
   "execution_count": 6,
   "id": "7feb7d52-a241-4582-8814-3c3884aea118",
   "metadata": {},
   "outputs": [],
   "source": [
    "y=np.array([[2,10],[3,20],[4,30]])"
   ]
  },
  {
   "cell_type": "code",
   "execution_count": 7,
   "id": "a822b3b7-b74f-4a0b-b868-5be9bccd4b80",
   "metadata": {},
   "outputs": [
    {
     "data": {
      "text/plain": [
       "array([[ 2, 10],\n",
       "       [ 3, 20],\n",
       "       [ 4, 30]])"
      ]
     },
     "execution_count": 7,
     "metadata": {},
     "output_type": "execute_result"
    }
   ],
   "source": [
    "y"
   ]
  },
  {
   "cell_type": "code",
   "execution_count": 8,
   "id": "9aa87cdc-1e7d-44c5-b374-b7e7de40cf0c",
   "metadata": {},
   "outputs": [
    {
     "data": {
      "text/plain": [
       "2"
      ]
     },
     "execution_count": 8,
     "metadata": {},
     "output_type": "execute_result"
    }
   ],
   "source": [
    "y.ndim"
   ]
  },
  {
   "cell_type": "code",
   "execution_count": 9,
   "id": "9ca45eb2-4258-4ec6-ab9a-18f5a9ab78a3",
   "metadata": {},
   "outputs": [
    {
     "data": {
      "text/plain": [
       "(3, 2)"
      ]
     },
     "execution_count": 9,
     "metadata": {},
     "output_type": "execute_result"
    }
   ],
   "source": [
    "y.shape"
   ]
  },
  {
   "cell_type": "code",
   "execution_count": 10,
   "id": "4b341be7-1771-468d-aa25-d63043d48f8e",
   "metadata": {},
   "outputs": [],
   "source": [
    "list1=[1,2,3,4]\n",
    "list2=[5,6,7,8]  "
   ]
  },
  {
   "cell_type": "code",
   "execution_count": 11,
   "id": "c52e75f5-b594-49b0-b9de-55eb8d1a2277",
   "metadata": {},
   "outputs": [
    {
     "data": {
      "text/plain": [
       "array([[1, 2, 3, 4],\n",
       "       [5, 6, 7, 8]])"
      ]
     },
     "execution_count": 11,
     "metadata": {},
     "output_type": "execute_result"
    }
   ],
   "source": [
    "np.array([list1,list2])"
   ]
  },
  {
   "cell_type": "code",
   "execution_count": 12,
   "id": "35c77a16-0e50-41ce-8d8a-2e7f4252da51",
   "metadata": {},
   "outputs": [],
   "source": [
    "c=np.array([list1,list2])"
   ]
  },
  {
   "cell_type": "code",
   "execution_count": 13,
   "id": "b27ef818-ac0b-45ca-ad7f-92eff647a8e6",
   "metadata": {},
   "outputs": [
    {
     "data": {
      "text/plain": [
       "8"
      ]
     },
     "execution_count": 13,
     "metadata": {},
     "output_type": "execute_result"
    }
   ],
   "source": [
    "c[1,3]"
   ]
  },
  {
   "cell_type": "code",
   "execution_count": 14,
   "id": "81cfcb27-d201-4fc9-8634-e28594a84500",
   "metadata": {},
   "outputs": [
    {
     "data": {
      "text/plain": [
       "4"
      ]
     },
     "execution_count": 14,
     "metadata": {},
     "output_type": "execute_result"
    }
   ],
   "source": [
    "c[0,3]"
   ]
  },
  {
   "cell_type": "code",
   "execution_count": 15,
   "id": "b712f97d-ade2-47ca-b401-f4dd9277bf11",
   "metadata": {},
   "outputs": [
    {
     "data": {
      "text/plain": [
       "array([  2, 246,   2,   5,   6])"
      ]
     },
     "execution_count": 15,
     "metadata": {},
     "output_type": "execute_result"
    }
   ],
   "source": [
    "x"
   ]
  },
  {
   "cell_type": "code",
   "execution_count": 16,
   "id": "4b5041db-30ec-465d-b394-c622f731b9c7",
   "metadata": {},
   "outputs": [
    {
     "data": {
      "text/plain": [
       "246"
      ]
     },
     "execution_count": 16,
     "metadata": {},
     "output_type": "execute_result"
    }
   ],
   "source": [
    "x[1]"
   ]
  },
  {
   "cell_type": "code",
   "execution_count": 17,
   "id": "25b4cd2c-e69d-44f2-a4ba-817c9d0aefd1",
   "metadata": {},
   "outputs": [
    {
     "data": {
      "text/plain": [
       "(array([1], dtype=int64),)"
      ]
     },
     "execution_count": 17,
     "metadata": {},
     "output_type": "execute_result"
    }
   ],
   "source": [
    "np.where(x==246)"
   ]
  },
  {
   "cell_type": "code",
   "execution_count": 18,
   "id": "b3cc31ad-0164-449e-a7e4-9899f9f41103",
   "metadata": {},
   "outputs": [
    {
     "data": {
      "text/plain": [
       "(array([], dtype=int64),)"
      ]
     },
     "execution_count": 18,
     "metadata": {},
     "output_type": "execute_result"
    }
   ],
   "source": [
    "np.where(x==244)"
   ]
  },
  {
   "cell_type": "code",
   "execution_count": 19,
   "id": "f4461d62-6aad-496d-bf46-9141ff7098e2",
   "metadata": {},
   "outputs": [
    {
     "data": {
      "text/plain": [
       "array([ True, False,  True, False, False])"
      ]
     },
     "execution_count": 19,
     "metadata": {},
     "output_type": "execute_result"
    }
   ],
   "source": [
    "np.isin(x,2)"
   ]
  },
  {
   "cell_type": "code",
   "execution_count": 20,
   "id": "019365d8-0cbe-46bc-836a-f226b4701917",
   "metadata": {},
   "outputs": [
    {
     "data": {
      "text/plain": [
       "2"
      ]
     },
     "execution_count": 20,
     "metadata": {},
     "output_type": "execute_result"
    }
   ],
   "source": [
    "np.isin(x,2).sum()"
   ]
  },
  {
   "cell_type": "code",
   "execution_count": 21,
   "id": "47d5e3fa-272b-4eb0-95da-a82dbabf5ac1",
   "metadata": {},
   "outputs": [
    {
     "data": {
      "text/plain": [
       "array([1, 1, 1, 1, 1, 1, 1, 1, 1, 1, 1, 1, 1, 1, 1, 1, 1, 1, 1, 1, 1, 1,\n",
       "       1, 1, 1, 1, 1, 1, 1, 1, 1, 1, 1, 1, 1, 1, 1, 1, 1, 1, 1, 1, 1, 1,\n",
       "       1, 1, 1, 1, 1, 1, 1, 1, 1, 1, 1, 1, 1, 1, 1, 1, 1, 1, 1, 1, 1, 1,\n",
       "       1, 1, 1, 1, 1, 1, 1, 1, 1, 1, 1, 1, 1, 1, 1, 1, 1, 1, 1, 1, 1, 1,\n",
       "       1, 1, 1, 1, 1, 1, 1, 1, 1, 1, 1, 1])"
      ]
     },
     "execution_count": 21,
     "metadata": {},
     "output_type": "execute_result"
    }
   ],
   "source": [
    "np.ones(100,dtype=int)"
   ]
  },
  {
   "cell_type": "code",
   "execution_count": 22,
   "id": "6b6cc1a6-4036-4451-aeb8-124d8c8e956e",
   "metadata": {},
   "outputs": [
    {
     "data": {
      "text/plain": [
       "array([0, 0, 0, 0, 0, 0, 0, 0, 0, 0])"
      ]
     },
     "execution_count": 22,
     "metadata": {},
     "output_type": "execute_result"
    }
   ],
   "source": [
    "np.zeros(10,dtype=int)"
   ]
  },
  {
   "cell_type": "code",
   "execution_count": 23,
   "id": "568c5cfa-16c0-478f-b755-c0d3189a55d5",
   "metadata": {},
   "outputs": [],
   "source": [
    "v=np.ones(10,dtype=int)"
   ]
  },
  {
   "cell_type": "code",
   "execution_count": 24,
   "id": "813c111a-f2ad-46b5-9d6d-a1837a4f2ec7",
   "metadata": {},
   "outputs": [
    {
     "data": {
      "text/plain": [
       "array([1, 1, 1, 1, 1, 1, 1, 1, 1, 1])"
      ]
     },
     "execution_count": 24,
     "metadata": {},
     "output_type": "execute_result"
    }
   ],
   "source": [
    "v"
   ]
  },
  {
   "cell_type": "code",
   "execution_count": 25,
   "id": "ffc924a0-a6aa-4043-82c6-d18f91a44fd1",
   "metadata": {},
   "outputs": [
    {
     "data": {
      "text/plain": [
       "array([[1],\n",
       "       [1],\n",
       "       [1],\n",
       "       [1],\n",
       "       [1],\n",
       "       [1],\n",
       "       [1],\n",
       "       [1],\n",
       "       [1],\n",
       "       [1]])"
      ]
     },
     "execution_count": 25,
     "metadata": {},
     "output_type": "execute_result"
    }
   ],
   "source": [
    "v.reshape(-1,1)"
   ]
  },
  {
   "cell_type": "code",
   "execution_count": 26,
   "id": "67ca1a91-7daf-48a3-b13b-cc7ee3514c07",
   "metadata": {},
   "outputs": [
    {
     "data": {
      "text/plain": [
       "array([[1, 1, 1, 1, 1],\n",
       "       [1, 1, 1, 1, 1]])"
      ]
     },
     "execution_count": 26,
     "metadata": {},
     "output_type": "execute_result"
    }
   ],
   "source": [
    "v.reshape(2,5)"
   ]
  },
  {
   "cell_type": "code",
   "execution_count": 27,
   "id": "8d677b07-4be1-4338-97a9-0763874b3de2",
   "metadata": {},
   "outputs": [
    {
     "data": {
      "text/plain": [
       "261"
      ]
     },
     "execution_count": 27,
     "metadata": {},
     "output_type": "execute_result"
    }
   ],
   "source": [
    "x.sum()"
   ]
  },
  {
   "cell_type": "code",
   "execution_count": 28,
   "id": "9e1bf3a5-7c55-482e-84b4-219587b4bf58",
   "metadata": {},
   "outputs": [
    {
     "data": {
      "text/plain": [
       "261"
      ]
     },
     "execution_count": 28,
     "metadata": {},
     "output_type": "execute_result"
    }
   ],
   "source": [
    "np.sum(x)"
   ]
  },
  {
   "cell_type": "code",
   "execution_count": 29,
   "id": "92f2662d-7992-4fde-9147-23f61ad7d3aa",
   "metadata": {},
   "outputs": [
    {
     "data": {
      "text/plain": [
       "246"
      ]
     },
     "execution_count": 29,
     "metadata": {},
     "output_type": "execute_result"
    }
   ],
   "source": [
    "x.max()"
   ]
  },
  {
   "cell_type": "code",
   "execution_count": 30,
   "id": "41ec479e-a64c-4677-bce4-6982c2b3dc5f",
   "metadata": {},
   "outputs": [
    {
     "data": {
      "text/plain": [
       "2"
      ]
     },
     "execution_count": 30,
     "metadata": {},
     "output_type": "execute_result"
    }
   ],
   "source": [
    "x.min()"
   ]
  },
  {
   "cell_type": "code",
   "execution_count": 31,
   "id": "71525794-0917-45b8-94ae-26bd6f51988d",
   "metadata": {},
   "outputs": [
    {
     "data": {
      "text/plain": [
       "5"
      ]
     },
     "execution_count": 31,
     "metadata": {},
     "output_type": "execute_result"
    }
   ],
   "source": [
    "len(x)"
   ]
  },
  {
   "cell_type": "code",
   "execution_count": 32,
   "id": "12e77c8e-b9fd-47c9-895d-bd07f7b28b34",
   "metadata": {},
   "outputs": [
    {
     "data": {
      "text/plain": [
       "96.91315700151347"
      ]
     },
     "execution_count": 32,
     "metadata": {},
     "output_type": "execute_result"
    }
   ],
   "source": [
    "x.std()"
   ]
  },
  {
   "cell_type": "code",
   "execution_count": 33,
   "id": "8e99dc61-688d-4e14-89c8-2e29c1944f72",
   "metadata": {},
   "outputs": [
    {
     "data": {
      "text/plain": [
       "array([    4, 60516,     4,    25,    36])"
      ]
     },
     "execution_count": 33,
     "metadata": {},
     "output_type": "execute_result"
    }
   ],
   "source": [
    "np.square(x)"
   ]
  },
  {
   "cell_type": "code",
   "execution_count": 34,
   "id": "42ff0708-b413-4796-89ba-f546fd73b26f",
   "metadata": {},
   "outputs": [
    {
     "data": {
      "text/plain": [
       "array([       8, 14886936,        8,      125,      216], dtype=int32)"
      ]
     },
     "execution_count": 34,
     "metadata": {},
     "output_type": "execute_result"
    }
   ],
   "source": [
    "np.power(x,3)"
   ]
  },
  {
   "cell_type": "code",
   "execution_count": 35,
   "id": "9853078e-b4b1-4739-8249-592ef2ad137e",
   "metadata": {},
   "outputs": [
    {
     "data": {
      "text/plain": [
       "array([7.38905610e+000, 6.86187098e+106, 7.38905610e+000, 1.48413159e+002,\n",
       "       4.03428793e+002])"
      ]
     },
     "execution_count": 35,
     "metadata": {},
     "output_type": "execute_result"
    }
   ],
   "source": [
    "np.exp(x)"
   ]
  },
  {
   "cell_type": "code",
   "execution_count": 36,
   "id": "6ce424a7-dfd5-46bf-9fe2-eed5afff547b",
   "metadata": {},
   "outputs": [
    {
     "data": {
      "text/plain": [
       "array([ 0.90929743,  0.81676   ,  0.90929743, -0.95892427, -0.2794155 ])"
      ]
     },
     "execution_count": 36,
     "metadata": {},
     "output_type": "execute_result"
    }
   ],
   "source": [
    "np.sin(x)"
   ]
  },
  {
   "cell_type": "code",
   "execution_count": 37,
   "id": "8b271e08-e9a6-48be-b0e3-0324b7cb9d5f",
   "metadata": {},
   "outputs": [
    {
     "data": {
      "text/plain": [
       "array([  2, 246,   3,   2,   5,   6])"
      ]
     },
     "execution_count": 37,
     "metadata": {},
     "output_type": "execute_result"
    }
   ],
   "source": [
    "np.insert(x,2,3)"
   ]
  },
  {
   "cell_type": "markdown",
   "id": "d276e109-22d5-40b9-8588-59b788261131",
   "metadata": {},
   "source": [
    "creating 2d array"
   ]
  },
  {
   "cell_type": "code",
   "execution_count": 38,
   "id": "d085095a-4d21-4448-95aa-b553839f71d6",
   "metadata": {},
   "outputs": [],
   "source": [
    "arr_2d = np.array([[1,2,3],[4,5,6]])"
   ]
  },
  {
   "cell_type": "code",
   "execution_count": 39,
   "id": "daa89f86-d99f-42a4-8bdc-56d54b066d11",
   "metadata": {},
   "outputs": [
    {
     "data": {
      "text/plain": [
       "array([[1, 2, 3],\n",
       "       [4, 5, 6]])"
      ]
     },
     "execution_count": 39,
     "metadata": {},
     "output_type": "execute_result"
    }
   ],
   "source": [
    "arr_2d"
   ]
  },
  {
   "cell_type": "markdown",
   "id": "8655b5b8-8aa5-45b2-8eee-bc8ac79b1f41",
   "metadata": {},
   "source": [
    "np.zeros(shape): Creates an array of given shape filled with zeros."
   ]
  },
  {
   "cell_type": "code",
   "execution_count": 40,
   "id": "c99f1a2d-1ea9-40a0-9ea1-84513ebe2ffa",
   "metadata": {},
   "outputs": [
    {
     "data": {
      "text/plain": [
       "array([[0., 0., 0.],\n",
       "       [0., 0., 0.],\n",
       "       [0., 0., 0.]])"
      ]
     },
     "execution_count": 40,
     "metadata": {},
     "output_type": "execute_result"
    }
   ],
   "source": [
    "np.zeros([3,3])"
   ]
  },
  {
   "cell_type": "code",
   "execution_count": 41,
   "id": "5fe249bd-9b80-4595-8cce-113b7d9bbb26",
   "metadata": {},
   "outputs": [
    {
     "data": {
      "text/plain": [
       "array([[0., 0.],\n",
       "       [0., 0.]])"
      ]
     },
     "execution_count": 41,
     "metadata": {},
     "output_type": "execute_result"
    }
   ],
   "source": [
    "np.zeros([2,2])"
   ]
  },
  {
   "cell_type": "code",
   "execution_count": 42,
   "id": "bf9bb32e-4322-4bd8-9921-e17ec5a2f82b",
   "metadata": {},
   "outputs": [
    {
     "data": {
      "text/plain": [
       "array([[0., 0., 0., 0., 0.],\n",
       "       [0., 0., 0., 0., 0.]])"
      ]
     },
     "execution_count": 42,
     "metadata": {},
     "output_type": "execute_result"
    }
   ],
   "source": [
    "np.zeros([2,5])"
   ]
  },
  {
   "cell_type": "code",
   "execution_count": 43,
   "id": "f195c5c6-db69-4bec-b5e5-8f0d03d4ef33",
   "metadata": {},
   "outputs": [
    {
     "data": {
      "text/plain": [
       "array([[0., 0.],\n",
       "       [0., 0.],\n",
       "       [0., 0.],\n",
       "       [0., 0.],\n",
       "       [0., 0.]])"
      ]
     },
     "execution_count": 43,
     "metadata": {},
     "output_type": "execute_result"
    }
   ],
   "source": [
    "np.zeros([5,2])"
   ]
  },
  {
   "cell_type": "markdown",
   "id": "f4a2eea4-82b2-4ec1-9465-19334e8d1375",
   "metadata": {},
   "source": [
    "np.ones(shape): Creates an array of given shape filled with ones."
   ]
  },
  {
   "cell_type": "code",
   "execution_count": 44,
   "id": "27777257-c481-4097-88b9-35c1d1757432",
   "metadata": {},
   "outputs": [
    {
     "data": {
      "text/plain": [
       "array([[1., 1.],\n",
       "       [1., 1.]])"
      ]
     },
     "execution_count": 44,
     "metadata": {},
     "output_type": "execute_result"
    }
   ],
   "source": [
    "np.ones([2,2])"
   ]
  },
  {
   "cell_type": "code",
   "execution_count": 45,
   "id": "04342b60-5bf4-45f3-a2ae-1a5cf7bb4d82",
   "metadata": {},
   "outputs": [
    {
     "data": {
      "text/plain": [
       "array([[1., 1., 1., 1.],\n",
       "       [1., 1., 1., 1.],\n",
       "       [1., 1., 1., 1.],\n",
       "       [1., 1., 1., 1.]])"
      ]
     },
     "execution_count": 45,
     "metadata": {},
     "output_type": "execute_result"
    }
   ],
   "source": [
    "np.ones([4,4])"
   ]
  },
  {
   "cell_type": "markdown",
   "id": "fa3c0b9b-b686-4102-b8ee-054c1c4a7fac",
   "metadata": {},
   "source": [
    "np.arange(start, stop, step): Creates an array with a range of values."
   ]
  },
  {
   "cell_type": "code",
   "execution_count": 46,
   "id": "2b917cb7-eb67-4981-bdca-6da988aa911c",
   "metadata": {},
   "outputs": [
    {
     "data": {
      "text/plain": [
       "array([1, 3, 5, 7, 9])"
      ]
     },
     "execution_count": 46,
     "metadata": {},
     "output_type": "execute_result"
    }
   ],
   "source": [
    "np.arange(1,11,2)"
   ]
  },
  {
   "cell_type": "code",
   "execution_count": 47,
   "id": "3a809541-87fb-40c3-a0d8-dc2117c99a04",
   "metadata": {},
   "outputs": [
    {
     "data": {
      "text/plain": [
       "array([1, 2, 3, 4, 5, 6, 7, 8, 9])"
      ]
     },
     "execution_count": 47,
     "metadata": {},
     "output_type": "execute_result"
    }
   ],
   "source": [
    "np.arange(1,10,1)"
   ]
  },
  {
   "cell_type": "code",
   "execution_count": 48,
   "id": "9fbf7dc2-e048-4bc0-8ec7-2016f0031ed5",
   "metadata": {},
   "outputs": [
    {
     "data": {
      "text/plain": [
       "array([ 1,  2,  3,  4,  5,  6,  7,  8,  9, 10, 11, 12, 13, 14, 15, 16, 17,\n",
       "       18, 19, 20, 21, 22, 23, 24, 25])"
      ]
     },
     "execution_count": 48,
     "metadata": {},
     "output_type": "execute_result"
    }
   ],
   "source": [
    "np.arange(1,26,1)"
   ]
  },
  {
   "cell_type": "markdown",
   "id": "1dd1c44e-6948-4328-a4ab-2d7b82387b41",
   "metadata": {},
   "source": [
    "np.linspace(start, stop, num): Creates an array with evenly spaced values over a specified range."
   ]
  },
  {
   "cell_type": "code",
   "execution_count": 49,
   "id": "ff7c8416-bdf3-44b6-99f6-8f92b2ecb8ea",
   "metadata": {},
   "outputs": [
    {
     "data": {
      "text/plain": [
       "array([ 1.,  2.,  3.,  4.,  5.,  6.,  7.,  8.,  9., 10.])"
      ]
     },
     "execution_count": 49,
     "metadata": {},
     "output_type": "execute_result"
    }
   ],
   "source": [
    "np.linspace(1,10,10)"
   ]
  },
  {
   "cell_type": "code",
   "execution_count": 50,
   "id": "1a431848-b7d1-4cce-ba4b-35d8a62c756d",
   "metadata": {},
   "outputs": [
    {
     "data": {
      "text/plain": [
       "array([ 1.        ,  1.18367347,  1.36734694,  1.55102041,  1.73469388,\n",
       "        1.91836735,  2.10204082,  2.28571429,  2.46938776,  2.65306122,\n",
       "        2.83673469,  3.02040816,  3.20408163,  3.3877551 ,  3.57142857,\n",
       "        3.75510204,  3.93877551,  4.12244898,  4.30612245,  4.48979592,\n",
       "        4.67346939,  4.85714286,  5.04081633,  5.2244898 ,  5.40816327,\n",
       "        5.59183673,  5.7755102 ,  5.95918367,  6.14285714,  6.32653061,\n",
       "        6.51020408,  6.69387755,  6.87755102,  7.06122449,  7.24489796,\n",
       "        7.42857143,  7.6122449 ,  7.79591837,  7.97959184,  8.16326531,\n",
       "        8.34693878,  8.53061224,  8.71428571,  8.89795918,  9.08163265,\n",
       "        9.26530612,  9.44897959,  9.63265306,  9.81632653, 10.        ])"
      ]
     },
     "execution_count": 50,
     "metadata": {},
     "output_type": "execute_result"
    }
   ],
   "source": [
    "np.linspace(1,10)"
   ]
  },
  {
   "cell_type": "code",
   "execution_count": 51,
   "id": "7fde3a91-276e-42cc-a1c8-11cbbb0478b8",
   "metadata": {},
   "outputs": [
    {
     "data": {
      "text/plain": [
       "array([ 1.,  3.,  5.,  7.,  9., 11., 13., 15.])"
      ]
     },
     "execution_count": 51,
     "metadata": {},
     "output_type": "execute_result"
    }
   ],
   "source": [
    "np.linspace(1,15,8)"
   ]
  },
  {
   "cell_type": "markdown",
   "id": "360a46a8-f8b9-450f-8c37-6c6d5167b760",
   "metadata": {},
   "source": [
    "np.eye(n): Creates an identity matrix of size n."
   ]
  },
  {
   "cell_type": "code",
   "execution_count": 52,
   "id": "af9df496-6a88-42f7-97fb-7e22f58329d0",
   "metadata": {},
   "outputs": [
    {
     "data": {
      "text/plain": [
       "array([[1., 0., 0., 0., 0.],\n",
       "       [0., 1., 0., 0., 0.],\n",
       "       [0., 0., 1., 0., 0.],\n",
       "       [0., 0., 0., 1., 0.],\n",
       "       [0., 0., 0., 0., 1.]])"
      ]
     },
     "execution_count": 52,
     "metadata": {},
     "output_type": "execute_result"
    }
   ],
   "source": [
    "np.eye(5)"
   ]
  },
  {
   "cell_type": "code",
   "execution_count": 53,
   "id": "74bbb656-b273-4a4c-867d-a9857cf218a0",
   "metadata": {},
   "outputs": [
    {
     "data": {
      "text/plain": [
       "array([[1., 0.],\n",
       "       [0., 1.]])"
      ]
     },
     "execution_count": 53,
     "metadata": {},
     "output_type": "execute_result"
    }
   ],
   "source": [
    "np.eye(2)"
   ]
  },
  {
   "cell_type": "code",
   "execution_count": 54,
   "id": "899decb1-4eb0-4a0a-a16e-f4785d2e7bd7",
   "metadata": {},
   "outputs": [
    {
     "data": {
      "text/plain": [
       "array([[1., 0., 0., 0., 0., 0., 0., 0., 0., 0.],\n",
       "       [0., 1., 0., 0., 0., 0., 0., 0., 0., 0.],\n",
       "       [0., 0., 1., 0., 0., 0., 0., 0., 0., 0.],\n",
       "       [0., 0., 0., 1., 0., 0., 0., 0., 0., 0.],\n",
       "       [0., 0., 0., 0., 1., 0., 0., 0., 0., 0.],\n",
       "       [0., 0., 0., 0., 0., 1., 0., 0., 0., 0.],\n",
       "       [0., 0., 0., 0., 0., 0., 1., 0., 0., 0.],\n",
       "       [0., 0., 0., 0., 0., 0., 0., 1., 0., 0.],\n",
       "       [0., 0., 0., 0., 0., 0., 0., 0., 1., 0.],\n",
       "       [0., 0., 0., 0., 0., 0., 0., 0., 0., 1.]])"
      ]
     },
     "execution_count": 54,
     "metadata": {},
     "output_type": "execute_result"
    }
   ],
   "source": [
    "np.eye(10)"
   ]
  },
  {
   "cell_type": "markdown",
   "id": "f05bf77a-c655-491f-9ebf-079968e3fba9",
   "metadata": {},
   "source": [
    "# Mathematical Operation"
   ]
  },
  {
   "cell_type": "code",
   "execution_count": 55,
   "id": "1c8e081a-1dcb-45a8-b6f6-5d9a5e41ecad",
   "metadata": {},
   "outputs": [],
   "source": [
    "arr1 = np.array([1,2,3])"
   ]
  },
  {
   "cell_type": "code",
   "execution_count": 56,
   "id": "c968a4d3-cb5d-4492-9b69-6f2a06df062c",
   "metadata": {},
   "outputs": [],
   "source": [
    "arr2 = np.array([4,5,6])"
   ]
  },
  {
   "cell_type": "markdown",
   "id": "5d363643-e817-424e-912c-78006253e9e2",
   "metadata": {},
   "source": [
    "Element-wise addition :"
   ]
  },
  {
   "cell_type": "code",
   "execution_count": 57,
   "id": "2cafb1d5-2e43-4fbb-a7d9-35458a54f11c",
   "metadata": {},
   "outputs": [
    {
     "name": "stdout",
     "output_type": "stream",
     "text": [
      "[5 7 9]\n"
     ]
    }
   ],
   "source": [
    "print(arr1+arr2)"
   ]
  },
  {
   "cell_type": "markdown",
   "id": "50014a88-45d1-43f4-a895-c9783fc2a84a",
   "metadata": {},
   "source": [
    "Element-wise multiplication :"
   ]
  },
  {
   "cell_type": "code",
   "execution_count": 58,
   "id": "7fdbe842-febc-41fc-85a7-953134dfbdc6",
   "metadata": {},
   "outputs": [
    {
     "name": "stdout",
     "output_type": "stream",
     "text": [
      "[ 4 10 18]\n"
     ]
    }
   ],
   "source": [
    "print(arr1*arr2)"
   ]
  },
  {
   "cell_type": "code",
   "execution_count": 59,
   "id": "751833c8-9432-4f54-929b-9ed0fe04adcb",
   "metadata": {},
   "outputs": [
    {
     "name": "stdout",
     "output_type": "stream",
     "text": [
      "32\n"
     ]
    }
   ],
   "source": [
    "print(np.dot(arr1,arr2))"
   ]
  },
  {
   "cell_type": "markdown",
   "id": "6680a1b1-9d46-43ff-9010-eb117578a435",
   "metadata": {},
   "source": [
    " Dot product : The dot product measures how much two vectors point in the same direction  OR\n",
    "              returns the sum of the products of corresponding elements between two vectors (arrays of equal length)\n",
    "             \n",
    " Output: 32  (1*4 + 2*5 + 3*6)"
   ]
  },
  {
   "cell_type": "markdown",
   "id": "1e7d2b5e-93c3-447e-9667-baf20992beeb",
   "metadata": {},
   "source": [
    "Broadcasting"
   ]
  },
  {
   "cell_type": "code",
   "execution_count": 60,
   "id": "cbc5f94b-95fc-4ac7-9c33-8267da67f9f4",
   "metadata": {},
   "outputs": [],
   "source": [
    "arr1 = np.array([1,2,3])"
   ]
  },
  {
   "cell_type": "code",
   "execution_count": 61,
   "id": "863629c9-0278-4832-a44b-b8964414fc25",
   "metadata": {},
   "outputs": [],
   "source": [
    "arr2 = np.array([[1],[2],[3]])"
   ]
  },
  {
   "cell_type": "markdown",
   "id": "70036526-184a-4cfd-903b-1d0314e587f1",
   "metadata": {},
   "source": [
    "Broadcasting addition :"
   ]
  },
  {
   "cell_type": "code",
   "execution_count": 62,
   "id": "f4385dcc-16cc-4220-b803-f163c635ce83",
   "metadata": {},
   "outputs": [
    {
     "name": "stdout",
     "output_type": "stream",
     "text": [
      "[[2 3 4]\n",
      " [3 4 5]\n",
      " [4 5 6]]\n"
     ]
    }
   ],
   "source": [
    "print(arr1+arr2)"
   ]
  },
  {
   "cell_type": "markdown",
   "id": "5d6ae05c-f4a3-4fd3-af9d-1c24e08cb28d",
   "metadata": {},
   "source": [
    "Broadcasting multipication : "
   ]
  },
  {
   "cell_type": "code",
   "execution_count": 63,
   "id": "1ecd8dce-3451-4a83-916d-b266ebb39832",
   "metadata": {},
   "outputs": [
    {
     "name": "stdout",
     "output_type": "stream",
     "text": [
      "[[1 2 3]\n",
      " [2 4 6]\n",
      " [3 6 9]]\n"
     ]
    }
   ],
   "source": [
    "print(arr1*arr2)"
   ]
  },
  {
   "cell_type": "code",
   "execution_count": 64,
   "id": "03af7f08-9308-4959-8d3e-3be512c19796",
   "metadata": {},
   "outputs": [
    {
     "data": {
      "text/plain": [
       "array([[1., 0.],\n",
       "       [0., 1.]])"
      ]
     },
     "execution_count": 64,
     "metadata": {},
     "output_type": "execute_result"
    }
   ],
   "source": [
    "np.empty([2,2],dtype = float)"
   ]
  }
 ],
 "metadata": {
  "kernelspec": {
   "display_name": "Python 3 (ipykernel)",
   "language": "python",
   "name": "python3"
  },
  "language_info": {
   "codemirror_mode": {
    "name": "ipython",
    "version": 3
   },
   "file_extension": ".py",
   "mimetype": "text/x-python",
   "name": "python",
   "nbconvert_exporter": "python",
   "pygments_lexer": "ipython3",
   "version": "3.11.7"
  },
  "widgets": {
   "application/vnd.jupyter.widget-state+json": {
    "state": {},
    "version_major": 2,
    "version_minor": 0
   }
  }
 },
 "nbformat": 4,
 "nbformat_minor": 5
}
